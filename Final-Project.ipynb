{
 "cells": [
  {
   "cell_type": "markdown",
   "metadata": {},
   "source": [
    "<center> \n",
    "     <img src=\"https://cf-courses-data.s3.us.cloud-object-storage.appdomain.cloud/assets/logos/SN_web_lightmode.png\" width=\"300\"> \n",
    "</center>\n",
    "\n",
    "# Assignment: Notebook for Peer Assignment\n",
    "Estimated time needed: 45 minutes\n"
   ]
  },
  {
   "cell_type": "markdown",
   "metadata": {},
   "source": [
    "# Assignment Scenario\n",
    "\n",
    "Congratulations! You have just been hired by a US Venture Capital firm as a data analyst.\n",
    "\n",
    "The company is considering foreign grain markets to help meet its supply chain requirements for its recent investments in the microbrewery and microdistillery industry, which is involved with the production and distribution of craft beers and spirits.\n",
    "\n",
    "Your first task is to provide a high level analysis of crop production in Canada. Your stakeholders want to understand the current and historical performance of certain crop types in terms of supply and price volatility. For now they are mainly interested in a macro-view of Canada's crop farming industry, and how it relates to the relative value of the Canadian and US dollars.\n"
   ]
  },
  {
   "cell_type": "markdown",
   "metadata": {},
   "source": [
    "# Introduction\n",
    "\n",
    "Using this R notebook you will:\n",
    "\n",
    "1.  Understand four datasets \n",
    "2.  Load the datasets into four separate tables in a Db2 database\n",
    "3.  Execute SQL queries unsing the RODBC R package to answer assignment questions \n",
    "\n",
    "You have already encountered two of these datasets in the previous practice lab. You will be able to reuse much of the work you did there to prepare your database tables for executing SQL queries.\n"
   ]
  },
  {
   "cell_type": "markdown",
   "metadata": {},
   "source": [
    "# Understand the datasets\n",
    "\n",
    "To complete the assignment problems in this notebook you will be using subsetted snapshots of two datasets from Statistics Canada, and one from the Bank of Canada. The links to the prepared datasets are provided in the next section; the interested student can explore the landing pages for the source datasets as follows:\n",
    "\n",
    "1.  <a href=\"https://www150.statcan.gc.ca/t1/tbl1/en/tv.action?utm_medium=Exinfluencer&utm_source=Exinfluencer&utm_content=000026UJ&utm_term=10006555&utm_id=NA-SkillsNetwork-Channel-SkillsNetworkCoursesIBMRP0203ENSkillsNetwork890-2022-01-01&pid=3210035901\">Canadian Principal Crops (Data & Metadata)</a>\n",
    "2.  <a href=\"https://www150.statcan.gc.ca/t1/tbl1/en/tv.action?utm_medium=Exinfluencer&utm_source=Exinfluencer&utm_content=000026UJ&utm_term=10006555&utm_id=NA-SkillsNetwork-Channel-SkillsNetworkCoursesIBMRP0203ENSkillsNetwork890-2022-01-01&pid=3210007701\">Farm product prices (Data & Metadata)</a>\n",
    "3.  <a href=\"https://www.bankofcanada.ca/rates/exchange/daily-exchange-rates?utm_medium=Exinfluencer&utm_source=Exinfluencer&utm_content=000026UJ&utm_term=10006555&utm_id=NA-SkillsNetwork-Channel-SkillsNetworkCoursesIBMRP0203ENSkillsNetwork890-2022-01-01\">Bank of Canada daily average exchange rates</a>\n",
    "\n",
    "\n",
    "### 1. Canadian Principal Crops Data *\n",
    "\n",
    "This dataset contains agricultural production measures for the principle crops grown in Canada, including a breakdown by province and teritory, for each year from 1908 to 2020.\n",
    "\n",
    "For this assignment you will use a preprocessed snapshot of this dataset (see below).\n",
    "\n",
    "A detailed description of this dataset can be obtained from the StatsCan Data Portal at:\n",
    "https://www150.statcan.gc.ca/t1/tbl1/en/tv.action?pid=3210035901  \n",
    "Detailed information is included in the metadata file and as header text in the data file, which can be downloaded - look for the 'download options' link.  \n",
    "\n",
    "### 2. Farm product prices\n",
    "\n",
    "This dataset contains monthly average farm product prices for Canadian crops and livestock by province and teritory, from 1980 to 2020 (or 'last year', whichever is greatest).\n",
    "\n",
    "For this assignment you will use a preprocessed snapshot of this dataset (see below).\n",
    "\n",
    "A description of this dataset can be obtained from the StatsCan Data Portal at:\n",
    "https://www150.statcan.gc.ca/t1/tbl1/en/tv.action?pid=3210007701 \n",
    "The information is included in the metadata file, which can be downloaded - look for the 'download options' link.  \n",
    "\n",
    "### 3. Bank of Canada daily average exchange rates *\n",
    "\n",
    "This dataset contains the daily average exchange rates for multiple foreign currencies. Exchange rates are expressed as 1 unit of the foreign currency converted into Canadian dollars. It includes only the latest four years of data, and the rates are published once each business day by 16:30 ET.\n",
    "\n",
    "For this assignment you will use a snapshot of this dataset with only the USD-CAD exchange rates included (see next section). We have also prepared a monthly averaged version which you will be using below.\n",
    "\n",
    "A brief description of this dataset and the original dataset can be obtained from the Bank of Canada Data Portal at:\n",
    "https://www.bankofcanada.ca/rates/exchange/daily-exchange-rates/\n",
    "\n",
    "( * these datasets are the same as the ones you used in the practice lab)\n"
   ]
  },
  {
   "cell_type": "markdown",
   "metadata": {},
   "source": [
    "### Dataset URLs\n",
    "\n",
    "  1.  Annual Crop Data: https://cf-courses-data.s3.us.cloud-object-storage.appdomain.cloud/IBM-RP0203EN-SkillsNetwork/labs/Final%20Project/Annual_Crop_Data.csv \n",
    "\n",
    "  2.  Farm product prices: https://cf-courses-data.s3.us.cloud-object-storage.appdomain.cloud/IBM-RP0203EN-SkillsNetwork/labs/Final%20Project/Monthly_Farm_Prices.csv\n",
    "  \n",
    "  3.  Daily FX Data: https://cf-courses-data.s3.us.cloud-object-storage.appdomain.cloud/IBM-RP0203EN-SkillsNetwork/labs/Final%20Project/Daily_FX.csv\n",
    "  \n",
    "  4.  Monthly FX Data: https://cf-courses-data.s3.us.cloud-object-storage.appdomain.cloud/IBM-RP0203EN-SkillsNetwork/labs/Final%20Project/Monthly_FX.csv\n",
    "  \n",
    "\n",
    "<span style=\"color:red\">**IMPORTANT:**</span> You will be loading these datasets directly into R data frames from these URLs instead of from the StatsCan and Bank of Canada portals. The versions provided at these URLs are simplified and subsetted versions of the original datasets.\n"
   ]
  },
  {
   "cell_type": "markdown",
   "metadata": {},
   "source": [
    "#### Now let's load these datasets into four separate Db2 tables.\n",
    "Let's first load the RODBC package:\n"
   ]
  },
  {
   "cell_type": "code",
   "execution_count": 11,
   "metadata": {},
   "outputs": [],
   "source": [
    "library(RODBC);"
   ]
  },
  {
   "cell_type": "markdown",
   "metadata": {},
   "source": [
    "## Problem 1\n",
    "#### Create tables\n",
    "Establish a connection to the Db2 database, and create the following four tables using the RODBC package in R. \n",
    "Use the separate cells provided below to create each of your tables.\n",
    "\n",
    "1.  **CROP_DATA**\n",
    "2.  **FARM_PRICES**\n",
    "3.  **DAILY_FX**\n",
    "4.  **MONTHLY_FX**  \n",
    "\n",
    "The previous practice lab will help you accomplish this.\n"
   ]
  },
  {
   "cell_type": "markdown",
   "metadata": {},
   "source": [
    "### Solution 1\n"
   ]
  },
  {
   "cell_type": "code",
   "execution_count": 12,
   "metadata": {},
   "outputs": [
    {
     "data": {
      "text/plain": [
       "RODBC Connection 1\n",
       "Details:\n",
       "  case=nochange\n",
       "  DRIVER={IBM DB2 ODBC DRIVER}\n",
       "  UID=phg37060\n",
       "  PWD=******\n",
       "  DATABASE=bludb\n",
       "  HOSTNAME=9938aec0-8105-433e-8bf9-0fbb7e483086.c1ogj3sd0tgtu0lqde00.databases.appdomain.cloud\n",
       "  PORT=32459\n",
       "  PROTOCOL=TCPIP\n",
       "  SECURITY=SSL"
      ]
     },
     "metadata": {},
     "output_type": "display_data"
    }
   ],
   "source": [
    "# Establish database connection\n",
    "dsn_driver <- \"{IBM DB2 ODBC Driver}\"\n",
    "dsn_database <- \"bludb\"            \n",
    "dsn_hostname <- \"9938aec0-8105-433e-8bf9-0fbb7e483086.c1ogj3sd0tgtu0lqde00.databases.appdomain.cloud\"\n",
    "dsn_port <- \"32459\"  \n",
    "dsn_protocol <- \"TCPIP\"            \n",
    "dsn_uid <- \"phg37060\"        \n",
    "dsn_pwd <- \"A78tNpyWBdk7HmSn\"      \n",
    "dsn_security <- \"ssl\"\n",
    "conn_path <- paste(\"DRIVER=\",dsn_driver,\n",
    "                  \";DATABASE=\",dsn_database,\n",
    "                  \";HOSTNAME=\",dsn_hostname,\n",
    "                  \";PORT=\",dsn_port,\n",
    "                  \";PROTOCOL=\",dsn_protocol,\n",
    "                  \";UID=\",dsn_uid,\n",
    "                  \";PWD=\",dsn_pwd,\n",
    "                  \";SECURITY=\",dsn_security,        \n",
    "                    sep=\"\")\n",
    "conn <- odbcDriverConnect(conn_path)\n",
    "conn"
   ]
  },
  {
   "cell_type": "code",
   "execution_count": 13,
   "metadata": {},
   "outputs": [
    {
     "data": {
      "text/html": [
       "<strong>DBMS_Name:</strong> 'DB2/LINUXX8664'"
      ],
      "text/latex": [
       "\\textbf{DBMS\\textbackslash{}\\_Name:} 'DB2/LINUXX8664'"
      ],
      "text/markdown": [
       "**DBMS_Name:** 'DB2/LINUXX8664'"
      ],
      "text/plain": [
       "       DBMS_Name \n",
       "\"DB2/LINUXX8664\" "
      ]
     },
     "metadata": {},
     "output_type": "display_data"
    },
    {
     "data": {
      "text/html": [
       "<strong>DBMS_Ver:</strong> '11.05.0800'"
      ],
      "text/latex": [
       "\\textbf{DBMS\\textbackslash{}\\_Ver:} '11.05.0800'"
      ],
      "text/markdown": [
       "**DBMS_Ver:** '11.05.0800'"
      ],
      "text/plain": [
       "    DBMS_Ver \n",
       "\"11.05.0800\" "
      ]
     },
     "metadata": {},
     "output_type": "display_data"
    },
    {
     "data": {
      "text/html": [
       "<strong>Driver_ODBC_Ver:</strong> '03.51'"
      ],
      "text/latex": [
       "\\textbf{Driver\\textbackslash{}\\_ODBC\\textbackslash{}\\_Ver:} '03.51'"
      ],
      "text/markdown": [
       "**Driver_ODBC_Ver:** '03.51'"
      ],
      "text/plain": [
       "Driver_ODBC_Ver \n",
       "        \"03.51\" "
      ]
     },
     "metadata": {},
     "output_type": "display_data"
    }
   ],
   "source": [
    "sql.info <- sqlTypeInfo(conn)\n",
    "conn.info <- odbcGetInfo(conn)\n",
    "conn.info[\"DBMS_Name\"]\n",
    "conn.info[\"DBMS_Ver\"]\n",
    "conn.info[\"Driver_ODBC_Ver\"]"
   ]
  },
  {
   "cell_type": "code",
   "execution_count": 14,
   "metadata": {},
   "outputs": [
    {
     "name": "stdout",
     "output_type": "stream",
     "text": [
      "Table:  PHG37060 . CROP_DATA  was dropped\n",
      "Table:  PHG37060 . FARM_PRICES  was dropped\n",
      "Table:  PHG37060 . DAILY_FX  was dropped\n",
      "Table:  PHG37060 . MONTHLY_FX  was dropped\n"
     ]
    }
   ],
   "source": [
    "myschema <- \"PHG37060\" # e.g. \"ZJH17769\"\n",
    "tables <- c(\"CROP_DATA\", \"FARM_PRICES\",\"DAILY_FX\",\"MONTHLY_FX\")\n",
    "    \n",
    "    for (table in tables){  \n",
    "      # Drop School table if it already exists\n",
    "      out <- sqlTables(conn, tableType = \"TABLE\", schema = myschema, tableName =table)\n",
    "      if (nrow(out)>0) {\n",
    "        err <- sqlDrop (conn, paste(myschema,\".\",table,sep=\"\"), errors=FALSE)  \n",
    "        if (err==-1){\n",
    "          cat(\"An error has occurred.\\n\")\n",
    "          err.msg <- odbcGetErrMsg(conn)\n",
    "          for (error in err.msg) {\n",
    "            cat(error,\"\\n\")\n",
    "          }\n",
    "        } else {\n",
    "          cat (\"Table: \",  myschema,\".\",table,\" was dropped\\n\")\n",
    "        }\n",
    "      } else {\n",
    "          cat (\"Table: \",  myschema,\".\",table,\" does not exist\\n\")\n",
    "      }\n",
    "    }"
   ]
  },
  {
   "cell_type": "code",
   "execution_count": 15,
   "metadata": {},
   "outputs": [],
   "source": [
    "# CROP_DATA:\n",
    "df1 <- sqlQuery(conn, \"CREATE TABLE CROP_DATA (\n",
    "                            CD_ID varchar(26) NOT NULL, \n",
    "                            YEAR varchar(75) not null,\n",
    "                            CROP_TYPE varchar(75) NOT NULL, \n",
    "                            GEO VARCHAR(75) NOT NULL, \n",
    "                            SEEDED_AREA VARCHAR(50) NOT NULL, \n",
    "                            HARVESTED_AREA VARCHAR(50), \n",
    "                            PRODUCTION VARCHAR(75) NOT NULL,\n",
    "                            AVG_YIELD VARCHAR(75) NOT NULL, \n",
    "                            PRIMARY KEY (CD_ID))\",\n",
    "errors=FALSE)"
   ]
  },
  {
   "cell_type": "code",
   "execution_count": 16,
   "metadata": {},
   "outputs": [
    {
     "name": "stdout",
     "output_type": "stream",
     "text": [
      "Table was created successfully.\n"
     ]
    }
   ],
   "source": [
    "if (df1 == -1){\n",
    "  cat (\"An error has occurred.\\n\")\n",
    "  msg <- odbcGetErrMsg(conn)\n",
    "  print (msg)\n",
    "} else {\n",
    "  cat (\"Table was created successfully.\\n\")\n",
    "}"
   ]
  },
  {
   "cell_type": "code",
   "execution_count": 17,
   "metadata": {},
   "outputs": [],
   "source": [
    "# FARM_PRICES:\n",
    "df2 <- sqlQuery(conn, \"CREATE TABLE FARM_PRICES (\n",
    "                            CD_ID varchar(26) NOT NULL, \n",
    "                            DATE varchar(155) not null,\n",
    "                            CROP_TYPE char(155) NOT NULL, \n",
    "                            GEO VARCHAR(715) NOT NULL, \n",
    "                            PRICE_PRERMT VARCHAR(520) NOT NUll,\n",
    "                            FOREIGN KEY(CD_ID) REFERENCES CROP_DATA(CD_ID) on delete restrict)\",\n",
    "errors=FALSE)\n"
   ]
  },
  {
   "cell_type": "code",
   "execution_count": 18,
   "metadata": {},
   "outputs": [
    {
     "name": "stdout",
     "output_type": "stream",
     "text": [
      "Table was created successfully.\n"
     ]
    }
   ],
   "source": [
    "if (df2 == -1){\n",
    "  cat (\"An error has occurred.\\n\")\n",
    "  msg <- odbcGetErrMsg(conn)\n",
    "  print (msg)\n",
    "} else {\n",
    "  cat (\"Table was created successfully.\\n\")\n",
    "}"
   ]
  },
  {
   "cell_type": "code",
   "execution_count": 19,
   "metadata": {},
   "outputs": [],
   "source": [
    "# DAILY_FX:\n",
    "df3 <- sqlQuery(conn, \"CREATE TABLE DAILY_FX (\n",
    "                            DFX_ID VARCHAR(6) NOT NULL, \n",
    "                            DATE varchar(15) not null, \n",
    "                            FXUSDCAD VARCHAR(75) NOT NULL,  \n",
    "                            PRIMARY KEY (DFX_ID))\",\n",
    "errors=FALSE)\n",
    "\n"
   ]
  },
  {
   "cell_type": "code",
   "execution_count": 20,
   "metadata": {},
   "outputs": [
    {
     "name": "stdout",
     "output_type": "stream",
     "text": [
      "Table was created successfully.\n"
     ]
    }
   ],
   "source": [
    "if (df3 == -1){\n",
    "  cat (\"An error has occurred.\\n\")\n",
    "  msg <- odbcGetErrMsg(conn)\n",
    "  print (msg)\n",
    "} else {\n",
    "  cat (\"Table was created successfully.\\n\")\n",
    "}"
   ]
  },
  {
   "cell_type": "code",
   "execution_count": 21,
   "metadata": {},
   "outputs": [],
   "source": [
    "# MONTHLY_FX:\n",
    "df4 <- sqlQuery(conn, \"CREATE TABLE MONTHLY_FX (\n",
    "                            DFX_ID varchar(6) NOT NULL, \n",
    "                            DATE varchar(15) not null, \n",
    "                            FXUSDCAD VARCHAR(75) NOT NULL,  \n",
    "                            FOREIGN KEY (DFX_ID) references DAILY_FX(DFX_ID)on delete restrict)\",\n",
    "                errors=FALSE)\n"
   ]
  },
  {
   "cell_type": "code",
   "execution_count": 22,
   "metadata": {},
   "outputs": [
    {
     "name": "stdout",
     "output_type": "stream",
     "text": [
      "Table was created successfully.\n"
     ]
    }
   ],
   "source": [
    "if (df4 == -1){\n",
    "  cat (\"An error has occurred.\\n\")\n",
    "  msg <- odbcGetErrMsg(conn)\n",
    "  print (msg)\n",
    "} else {\n",
    "  cat (\"Table was created successfully.\\n\")\n",
    "}"
   ]
  },
  {
   "cell_type": "markdown",
   "metadata": {},
   "source": [
    "## Problem 2\n",
    "#### Read Datasets and Load Tables\n",
    "Read the datasets into R dataframes using the urls provided above. Then load your tables.\n"
   ]
  },
  {
   "cell_type": "markdown",
   "metadata": {},
   "source": [
    "###  Solution 2\n"
   ]
  },
  {
   "cell_type": "code",
   "execution_count": 23,
   "metadata": {},
   "outputs": [
    {
     "data": {
      "text/html": [
       "15"
      ],
      "text/latex": [
       "15"
      ],
      "text/markdown": [
       "15"
      ],
      "text/plain": [
       "[1] 15"
      ]
     },
     "metadata": {},
     "output_type": "display_data"
    },
    {
     "data": {
      "text/html": [
       "<style>\n",
       ".list-inline {list-style: none; margin:0; padding: 0}\n",
       ".list-inline>li {display: inline-block}\n",
       ".list-inline>li:not(:last-child)::after {content: \"\\00b7\"; padding: 0 .5ex}\n",
       "</style>\n",
       "<ol class=list-inline><li>'BOARD'</li><li>'COUNTRY'</li><li>'CROP_DATA'</li><li>'DAILY_FX'</li><li>'DEPARTMENTS'</li><li>'EMPLOYEES'</li><li>'FARM_PRICES'</li><li>'JOBS'</li><li>'JOB_HISTORY'</li><li>'LOCATIONS'</li><li>'MONTHLY_FX'</li><li>'PET'</li><li>'PETRESCUE'</li><li>'PETSALE'</li><li>'SCHOOL'</li></ol>\n"
      ],
      "text/latex": [
       "\\begin{enumerate*}\n",
       "\\item 'BOARD'\n",
       "\\item 'COUNTRY'\n",
       "\\item 'CROP\\_DATA'\n",
       "\\item 'DAILY\\_FX'\n",
       "\\item 'DEPARTMENTS'\n",
       "\\item 'EMPLOYEES'\n",
       "\\item 'FARM\\_PRICES'\n",
       "\\item 'JOBS'\n",
       "\\item 'JOB\\_HISTORY'\n",
       "\\item 'LOCATIONS'\n",
       "\\item 'MONTHLY\\_FX'\n",
       "\\item 'PET'\n",
       "\\item 'PETRESCUE'\n",
       "\\item 'PETSALE'\n",
       "\\item 'SCHOOL'\n",
       "\\end{enumerate*}\n"
      ],
      "text/markdown": [
       "1. 'BOARD'\n",
       "2. 'COUNTRY'\n",
       "3. 'CROP_DATA'\n",
       "4. 'DAILY_FX'\n",
       "5. 'DEPARTMENTS'\n",
       "6. 'EMPLOYEES'\n",
       "7. 'FARM_PRICES'\n",
       "8. 'JOBS'\n",
       "9. 'JOB_HISTORY'\n",
       "10. 'LOCATIONS'\n",
       "11. 'MONTHLY_FX'\n",
       "12. 'PET'\n",
       "13. 'PETRESCUE'\n",
       "14. 'PETSALE'\n",
       "15. 'SCHOOL'\n",
       "\n",
       "\n"
      ],
      "text/plain": [
       " [1] \"BOARD\"       \"COUNTRY\"     \"CROP_DATA\"   \"DAILY_FX\"    \"DEPARTMENTS\"\n",
       " [6] \"EMPLOYEES\"   \"FARM_PRICES\" \"JOBS\"        \"JOB_HISTORY\" \"LOCATIONS\"  \n",
       "[11] \"MONTHLY_FX\"  \"PET\"         \"PETRESCUE\"   \"PETSALE\"     \"SCHOOL\"     "
      ]
     },
     "metadata": {},
     "output_type": "display_data"
    }
   ],
   "source": [
    "tab.frame <- sqlTables(conn, schema=myschema)\n",
    "nrow(tab.frame)\n",
    "tab.frame$TABLE_NAME"
   ]
  },
  {
   "cell_type": "code",
   "execution_count": 24,
   "metadata": {},
   "outputs": [],
   "source": [
    "cropdf <- read.csv(\"/resources/data/samples/final/Annual_Crop_Data (1).csv\" , header = TRUE)"
   ]
  },
  {
   "cell_type": "code",
   "execution_count": 25,
   "metadata": {},
   "outputs": [],
   "source": [
    "sqlSave(conn, cropdf, \"CROP_DATA\", append=TRUE, fast=FALSE, rownames=FALSE, colnames=FALSE, verbose=FALSE)"
   ]
  },
  {
   "cell_type": "code",
   "execution_count": 26,
   "metadata": {},
   "outputs": [],
   "source": [
    "farmdf <- read.csv(\"/resources/data/samples/final/Monthly_Farm_Prices.csv\",header= TRUE )"
   ]
  },
  {
   "cell_type": "code",
   "execution_count": null,
   "metadata": {},
   "outputs": [],
   "source": [
    "sqlSave(conn, farmdf, \"FARM_PRICES\", append=TRUE, fast=FALSE, rownames=FALSE, colnames=FALSE, verbose=FALSE , safer = FALSE)"
   ]
  },
  {
   "cell_type": "code",
   "execution_count": null,
   "metadata": {},
   "outputs": [],
   "source": [
    "daily_fx <- read.csv(\"/resources/data/samples/final/Daily_FX.csv\" , header = TRUE)"
   ]
  },
  {
   "cell_type": "code",
   "execution_count": null,
   "metadata": {},
   "outputs": [],
   "source": [
    "sqlSave(conn, daily_fx, \"DAILY_FX\", append=TRUE, fast=FALSE, rownames=FALSE, colnames=FALSE, verbose=FALSE)"
   ]
  },
  {
   "cell_type": "code",
   "execution_count": null,
   "metadata": {},
   "outputs": [],
   "source": [
    "monthly_fx <- read.csv(\"/resources/data/samples/final/Monthly_FX.csv\",header= TRUE )"
   ]
  },
  {
   "cell_type": "code",
   "execution_count": null,
   "metadata": {},
   "outputs": [],
   "source": [
    "sqlSave(conn, monthly_fx, \"MONTHLY_FX\", append=TRUE, fast=FALSE, rownames=FALSE, colnames=FALSE, verbose=FALSE,safer=FALSE)"
   ]
  },
  {
   "cell_type": "code",
   "execution_count": null,
   "metadata": {},
   "outputs": [],
   "source": [
    "head(farmdf)"
   ]
  },
  {
   "cell_type": "markdown",
   "metadata": {},
   "source": [
    "## Now execute SQL queries using the RODBC R package to solve the assignment problems.\n",
    "\n",
    "## Problem 3\n",
    "#### How many records are in the farm prices dataset?\n"
   ]
  },
  {
   "cell_type": "markdown",
   "metadata": {},
   "source": [
    "### Solution 3\n"
   ]
  },
  {
   "cell_type": "code",
   "execution_count": null,
   "metadata": {},
   "outputs": [],
   "source": [
    "sqlQuery(conn, \"SELECT count(*) as abc from FARM_PRICES;\")\n"
   ]
  },
  {
   "cell_type": "markdown",
   "metadata": {},
   "source": [
    "## Problem 4\n",
    "#### Which geographies are included in the farm prices dataset?\n"
   ]
  },
  {
   "cell_type": "markdown",
   "metadata": {},
   "source": [
    "### Solution 4\n"
   ]
  },
  {
   "cell_type": "code",
   "execution_count": 184,
   "metadata": {},
   "outputs": [
    {
     "data": {
      "text/html": [
       "<table>\n",
       "<caption>A data.frame: 2 × 1</caption>\n",
       "<thead>\n",
       "\t<tr><th></th><th scope=col>GEO</th></tr>\n",
       "\t<tr><th></th><th scope=col>&lt;fct&gt;</th></tr>\n",
       "</thead>\n",
       "<tbody>\n",
       "\t<tr><th scope=row>1</th><td>Alberta     </td></tr>\n",
       "\t<tr><th scope=row>2</th><td>Saskatchewan</td></tr>\n",
       "</tbody>\n",
       "</table>\n"
      ],
      "text/latex": [
       "A data.frame: 2 × 1\n",
       "\\begin{tabular}{r|l}\n",
       "  & GEO\\\\\n",
       "  & <fct>\\\\\n",
       "\\hline\n",
       "\t1 & Alberta     \\\\\n",
       "\t2 & Saskatchewan\\\\\n",
       "\\end{tabular}\n"
      ],
      "text/markdown": [
       "\n",
       "A data.frame: 2 × 1\n",
       "\n",
       "| <!--/--> | GEO &lt;fct&gt; |\n",
       "|---|---|\n",
       "| 1 | Alberta      |\n",
       "| 2 | Saskatchewan |\n",
       "\n"
      ],
      "text/plain": [
       "  GEO         \n",
       "1 Alberta     \n",
       "2 Saskatchewan"
      ]
     },
     "metadata": {},
     "output_type": "display_data"
    }
   ],
   "source": [
    "sqlQuery(conn, \"SELECT unique(GEO) from FARM_PRICES;\")"
   ]
  },
  {
   "cell_type": "markdown",
   "metadata": {},
   "source": [
    "## Problem 5\n",
    "#### How many hectares of Rye were harvested in Canada in 1968?\n"
   ]
  },
  {
   "cell_type": "markdown",
   "metadata": {},
   "source": [
    "### Solution 5\n"
   ]
  },
  {
   "cell_type": "code",
   "execution_count": 225,
   "metadata": {},
   "outputs": [
    {
     "data": {
      "text/html": [
       "<table>\n",
       "<caption>A data.frame: 1 × 1</caption>\n",
       "<thead>\n",
       "\t<tr><th></th><th scope=col>HARVESTED_AREA</th></tr>\n",
       "\t<tr><th></th><th scope=col>&lt;int&gt;</th></tr>\n",
       "</thead>\n",
       "<tbody>\n",
       "\t<tr><th scope=row>1</th><td>274100</td></tr>\n",
       "</tbody>\n",
       "</table>\n"
      ],
      "text/latex": [
       "A data.frame: 1 × 1\n",
       "\\begin{tabular}{r|l}\n",
       "  & HARVESTED\\_AREA\\\\\n",
       "  & <int>\\\\\n",
       "\\hline\n",
       "\t1 & 274100\\\\\n",
       "\\end{tabular}\n"
      ],
      "text/markdown": [
       "\n",
       "A data.frame: 1 × 1\n",
       "\n",
       "| <!--/--> | HARVESTED_AREA &lt;int&gt; |\n",
       "|---|---|\n",
       "| 1 | 274100 |\n",
       "\n"
      ],
      "text/plain": [
       "  HARVESTED_AREA\n",
       "1 274100        "
      ]
     },
     "metadata": {},
     "output_type": "display_data"
    }
   ],
   "source": [
    "sqlQuery(conn, \"SELECT HARVESTED_AREA from CROP_DATA where YEAR LIKE '1968%' and GEO = 'Canada' and CROP_TYPE='Rye';\")\n"
   ]
  },
  {
   "cell_type": "markdown",
   "metadata": {},
   "source": [
    "## Problem 6\n",
    "#### Query and display the first 6 rows of the farm prices table for Rye.\n"
   ]
  },
  {
   "cell_type": "markdown",
   "metadata": {},
   "source": [
    "### Solution 6\n"
   ]
  },
  {
   "cell_type": "code",
   "execution_count": 202,
   "metadata": {},
   "outputs": [
    {
     "data": {
      "text/html": [
       "<table>\n",
       "<caption>A data.frame: 6 × 5</caption>\n",
       "<thead>\n",
       "\t<tr><th></th><th scope=col>CD_ID</th><th scope=col>DATE</th><th scope=col>CROP_TYPE</th><th scope=col>GEO</th><th scope=col>PRICE_PRERMT</th></tr>\n",
       "\t<tr><th></th><th scope=col>&lt;int&gt;</th><th scope=col>&lt;fct&gt;</th><th scope=col>&lt;fct&gt;</th><th scope=col>&lt;fct&gt;</th><th scope=col>&lt;dbl&gt;</th></tr>\n",
       "</thead>\n",
       "<tbody>\n",
       "\t<tr><th scope=row>1</th><td> 4</td><td>1985-01-01</td><td>Rye</td><td>Alberta     </td><td>100.77</td></tr>\n",
       "\t<tr><th scope=row>2</th><td> 5</td><td>1985-01-01</td><td>Rye</td><td>Saskatchewan</td><td>109.75</td></tr>\n",
       "\t<tr><th scope=row>3</th><td>10</td><td>1985-02-01</td><td>Rye</td><td>Alberta     </td><td> 95.05</td></tr>\n",
       "\t<tr><th scope=row>4</th><td>11</td><td>1985-02-01</td><td>Rye</td><td>Saskatchewan</td><td>103.46</td></tr>\n",
       "\t<tr><th scope=row>5</th><td>16</td><td>1985-03-01</td><td>Rye</td><td>Alberta     </td><td> 96.77</td></tr>\n",
       "\t<tr><th scope=row>6</th><td>17</td><td>1985-03-01</td><td>Rye</td><td>Saskatchewan</td><td>106.38</td></tr>\n",
       "</tbody>\n",
       "</table>\n"
      ],
      "text/latex": [
       "A data.frame: 6 × 5\n",
       "\\begin{tabular}{r|lllll}\n",
       "  & CD\\_ID & DATE & CROP\\_TYPE & GEO & PRICE\\_PRERMT\\\\\n",
       "  & <int> & <fct> & <fct> & <fct> & <dbl>\\\\\n",
       "\\hline\n",
       "\t1 &  4 & 1985-01-01 & Rye & Alberta      & 100.77\\\\\n",
       "\t2 &  5 & 1985-01-01 & Rye & Saskatchewan & 109.75\\\\\n",
       "\t3 & 10 & 1985-02-01 & Rye & Alberta      &  95.05\\\\\n",
       "\t4 & 11 & 1985-02-01 & Rye & Saskatchewan & 103.46\\\\\n",
       "\t5 & 16 & 1985-03-01 & Rye & Alberta      &  96.77\\\\\n",
       "\t6 & 17 & 1985-03-01 & Rye & Saskatchewan & 106.38\\\\\n",
       "\\end{tabular}\n"
      ],
      "text/markdown": [
       "\n",
       "A data.frame: 6 × 5\n",
       "\n",
       "| <!--/--> | CD_ID &lt;int&gt; | DATE &lt;fct&gt; | CROP_TYPE &lt;fct&gt; | GEO &lt;fct&gt; | PRICE_PRERMT &lt;dbl&gt; |\n",
       "|---|---|---|---|---|---|\n",
       "| 1 |  4 | 1985-01-01 | Rye | Alberta      | 100.77 |\n",
       "| 2 |  5 | 1985-01-01 | Rye | Saskatchewan | 109.75 |\n",
       "| 3 | 10 | 1985-02-01 | Rye | Alberta      |  95.05 |\n",
       "| 4 | 11 | 1985-02-01 | Rye | Saskatchewan | 103.46 |\n",
       "| 5 | 16 | 1985-03-01 | Rye | Alberta      |  96.77 |\n",
       "| 6 | 17 | 1985-03-01 | Rye | Saskatchewan | 106.38 |\n",
       "\n"
      ],
      "text/plain": [
       "  CD_ID DATE       CROP_TYPE GEO          PRICE_PRERMT\n",
       "1  4    1985-01-01 Rye       Alberta      100.77      \n",
       "2  5    1985-01-01 Rye       Saskatchewan 109.75      \n",
       "3 10    1985-02-01 Rye       Alberta       95.05      \n",
       "4 11    1985-02-01 Rye       Saskatchewan 103.46      \n",
       "5 16    1985-03-01 Rye       Alberta       96.77      \n",
       "6 17    1985-03-01 Rye       Saskatchewan 106.38      "
      ]
     },
     "metadata": {},
     "output_type": "display_data"
    }
   ],
   "source": [
    "sqlQuery(conn,\"SELECT * FROM FARM_PRICES where CROP_TYPE='Rye' LIMIT 6;\")"
   ]
  },
  {
   "cell_type": "markdown",
   "metadata": {},
   "source": [
    "## Problem 7\n",
    "#### Which provinces grew Barley? \n"
   ]
  },
  {
   "cell_type": "markdown",
   "metadata": {},
   "source": [
    "### Solution 7\n"
   ]
  },
  {
   "cell_type": "code",
   "execution_count": 203,
   "metadata": {},
   "outputs": [
    {
     "data": {
      "text/html": [
       "<table>\n",
       "<caption>A data.frame: 864 × 1</caption>\n",
       "<thead>\n",
       "\t<tr><th></th><th scope=col>GEO</th></tr>\n",
       "\t<tr><th></th><th scope=col>&lt;fct&gt;</th></tr>\n",
       "</thead>\n",
       "<tbody>\n",
       "\t<tr><th scope=row>1</th><td>Alberta     </td></tr>\n",
       "\t<tr><th scope=row>2</th><td>Saskatchewan</td></tr>\n",
       "\t<tr><th scope=row>3</th><td>Alberta     </td></tr>\n",
       "\t<tr><th scope=row>4</th><td>Saskatchewan</td></tr>\n",
       "\t<tr><th scope=row>5</th><td>Alberta     </td></tr>\n",
       "\t<tr><th scope=row>6</th><td>Saskatchewan</td></tr>\n",
       "\t<tr><th scope=row>7</th><td>Alberta     </td></tr>\n",
       "\t<tr><th scope=row>8</th><td>Saskatchewan</td></tr>\n",
       "\t<tr><th scope=row>9</th><td>Alberta     </td></tr>\n",
       "\t<tr><th scope=row>10</th><td>Saskatchewan</td></tr>\n",
       "\t<tr><th scope=row>11</th><td>Alberta     </td></tr>\n",
       "\t<tr><th scope=row>12</th><td>Saskatchewan</td></tr>\n",
       "\t<tr><th scope=row>13</th><td>Alberta     </td></tr>\n",
       "\t<tr><th scope=row>14</th><td>Saskatchewan</td></tr>\n",
       "\t<tr><th scope=row>15</th><td>Alberta     </td></tr>\n",
       "\t<tr><th scope=row>16</th><td>Saskatchewan</td></tr>\n",
       "\t<tr><th scope=row>17</th><td>Alberta     </td></tr>\n",
       "\t<tr><th scope=row>18</th><td>Saskatchewan</td></tr>\n",
       "\t<tr><th scope=row>19</th><td>Alberta     </td></tr>\n",
       "\t<tr><th scope=row>20</th><td>Saskatchewan</td></tr>\n",
       "\t<tr><th scope=row>21</th><td>Alberta     </td></tr>\n",
       "\t<tr><th scope=row>22</th><td>Saskatchewan</td></tr>\n",
       "\t<tr><th scope=row>23</th><td>Alberta     </td></tr>\n",
       "\t<tr><th scope=row>24</th><td>Saskatchewan</td></tr>\n",
       "\t<tr><th scope=row>25</th><td>Alberta     </td></tr>\n",
       "\t<tr><th scope=row>26</th><td>Saskatchewan</td></tr>\n",
       "\t<tr><th scope=row>27</th><td>Alberta     </td></tr>\n",
       "\t<tr><th scope=row>28</th><td>Saskatchewan</td></tr>\n",
       "\t<tr><th scope=row>29</th><td>Alberta     </td></tr>\n",
       "\t<tr><th scope=row>30</th><td>Saskatchewan</td></tr>\n",
       "\t<tr><th scope=row>⋮</th><td>⋮</td></tr>\n",
       "\t<tr><th scope=row>835</th><td>Alberta     </td></tr>\n",
       "\t<tr><th scope=row>836</th><td>Saskatchewan</td></tr>\n",
       "\t<tr><th scope=row>837</th><td>Alberta     </td></tr>\n",
       "\t<tr><th scope=row>838</th><td>Saskatchewan</td></tr>\n",
       "\t<tr><th scope=row>839</th><td>Alberta     </td></tr>\n",
       "\t<tr><th scope=row>840</th><td>Saskatchewan</td></tr>\n",
       "\t<tr><th scope=row>841</th><td>Alberta     </td></tr>\n",
       "\t<tr><th scope=row>842</th><td>Saskatchewan</td></tr>\n",
       "\t<tr><th scope=row>843</th><td>Alberta     </td></tr>\n",
       "\t<tr><th scope=row>844</th><td>Saskatchewan</td></tr>\n",
       "\t<tr><th scope=row>845</th><td>Alberta     </td></tr>\n",
       "\t<tr><th scope=row>846</th><td>Saskatchewan</td></tr>\n",
       "\t<tr><th scope=row>847</th><td>Alberta     </td></tr>\n",
       "\t<tr><th scope=row>848</th><td>Saskatchewan</td></tr>\n",
       "\t<tr><th scope=row>849</th><td>Alberta     </td></tr>\n",
       "\t<tr><th scope=row>850</th><td>Saskatchewan</td></tr>\n",
       "\t<tr><th scope=row>851</th><td>Alberta     </td></tr>\n",
       "\t<tr><th scope=row>852</th><td>Saskatchewan</td></tr>\n",
       "\t<tr><th scope=row>853</th><td>Alberta     </td></tr>\n",
       "\t<tr><th scope=row>854</th><td>Saskatchewan</td></tr>\n",
       "\t<tr><th scope=row>855</th><td>Alberta     </td></tr>\n",
       "\t<tr><th scope=row>856</th><td>Saskatchewan</td></tr>\n",
       "\t<tr><th scope=row>857</th><td>Alberta     </td></tr>\n",
       "\t<tr><th scope=row>858</th><td>Saskatchewan</td></tr>\n",
       "\t<tr><th scope=row>859</th><td>Alberta     </td></tr>\n",
       "\t<tr><th scope=row>860</th><td>Saskatchewan</td></tr>\n",
       "\t<tr><th scope=row>861</th><td>Alberta     </td></tr>\n",
       "\t<tr><th scope=row>862</th><td>Saskatchewan</td></tr>\n",
       "\t<tr><th scope=row>863</th><td>Alberta     </td></tr>\n",
       "\t<tr><th scope=row>864</th><td>Saskatchewan</td></tr>\n",
       "</tbody>\n",
       "</table>\n"
      ],
      "text/latex": [
       "A data.frame: 864 × 1\n",
       "\\begin{tabular}{r|l}\n",
       "  & GEO\\\\\n",
       "  & <fct>\\\\\n",
       "\\hline\n",
       "\t1 & Alberta     \\\\\n",
       "\t2 & Saskatchewan\\\\\n",
       "\t3 & Alberta     \\\\\n",
       "\t4 & Saskatchewan\\\\\n",
       "\t5 & Alberta     \\\\\n",
       "\t6 & Saskatchewan\\\\\n",
       "\t7 & Alberta     \\\\\n",
       "\t8 & Saskatchewan\\\\\n",
       "\t9 & Alberta     \\\\\n",
       "\t10 & Saskatchewan\\\\\n",
       "\t11 & Alberta     \\\\\n",
       "\t12 & Saskatchewan\\\\\n",
       "\t13 & Alberta     \\\\\n",
       "\t14 & Saskatchewan\\\\\n",
       "\t15 & Alberta     \\\\\n",
       "\t16 & Saskatchewan\\\\\n",
       "\t17 & Alberta     \\\\\n",
       "\t18 & Saskatchewan\\\\\n",
       "\t19 & Alberta     \\\\\n",
       "\t20 & Saskatchewan\\\\\n",
       "\t21 & Alberta     \\\\\n",
       "\t22 & Saskatchewan\\\\\n",
       "\t23 & Alberta     \\\\\n",
       "\t24 & Saskatchewan\\\\\n",
       "\t25 & Alberta     \\\\\n",
       "\t26 & Saskatchewan\\\\\n",
       "\t27 & Alberta     \\\\\n",
       "\t28 & Saskatchewan\\\\\n",
       "\t29 & Alberta     \\\\\n",
       "\t30 & Saskatchewan\\\\\n",
       "\t⋮ & ⋮\\\\\n",
       "\t835 & Alberta     \\\\\n",
       "\t836 & Saskatchewan\\\\\n",
       "\t837 & Alberta     \\\\\n",
       "\t838 & Saskatchewan\\\\\n",
       "\t839 & Alberta     \\\\\n",
       "\t840 & Saskatchewan\\\\\n",
       "\t841 & Alberta     \\\\\n",
       "\t842 & Saskatchewan\\\\\n",
       "\t843 & Alberta     \\\\\n",
       "\t844 & Saskatchewan\\\\\n",
       "\t845 & Alberta     \\\\\n",
       "\t846 & Saskatchewan\\\\\n",
       "\t847 & Alberta     \\\\\n",
       "\t848 & Saskatchewan\\\\\n",
       "\t849 & Alberta     \\\\\n",
       "\t850 & Saskatchewan\\\\\n",
       "\t851 & Alberta     \\\\\n",
       "\t852 & Saskatchewan\\\\\n",
       "\t853 & Alberta     \\\\\n",
       "\t854 & Saskatchewan\\\\\n",
       "\t855 & Alberta     \\\\\n",
       "\t856 & Saskatchewan\\\\\n",
       "\t857 & Alberta     \\\\\n",
       "\t858 & Saskatchewan\\\\\n",
       "\t859 & Alberta     \\\\\n",
       "\t860 & Saskatchewan\\\\\n",
       "\t861 & Alberta     \\\\\n",
       "\t862 & Saskatchewan\\\\\n",
       "\t863 & Alberta     \\\\\n",
       "\t864 & Saskatchewan\\\\\n",
       "\\end{tabular}\n"
      ],
      "text/markdown": [
       "\n",
       "A data.frame: 864 × 1\n",
       "\n",
       "| <!--/--> | GEO &lt;fct&gt; |\n",
       "|---|---|\n",
       "| 1 | Alberta      |\n",
       "| 2 | Saskatchewan |\n",
       "| 3 | Alberta      |\n",
       "| 4 | Saskatchewan |\n",
       "| 5 | Alberta      |\n",
       "| 6 | Saskatchewan |\n",
       "| 7 | Alberta      |\n",
       "| 8 | Saskatchewan |\n",
       "| 9 | Alberta      |\n",
       "| 10 | Saskatchewan |\n",
       "| 11 | Alberta      |\n",
       "| 12 | Saskatchewan |\n",
       "| 13 | Alberta      |\n",
       "| 14 | Saskatchewan |\n",
       "| 15 | Alberta      |\n",
       "| 16 | Saskatchewan |\n",
       "| 17 | Alberta      |\n",
       "| 18 | Saskatchewan |\n",
       "| 19 | Alberta      |\n",
       "| 20 | Saskatchewan |\n",
       "| 21 | Alberta      |\n",
       "| 22 | Saskatchewan |\n",
       "| 23 | Alberta      |\n",
       "| 24 | Saskatchewan |\n",
       "| 25 | Alberta      |\n",
       "| 26 | Saskatchewan |\n",
       "| 27 | Alberta      |\n",
       "| 28 | Saskatchewan |\n",
       "| 29 | Alberta      |\n",
       "| 30 | Saskatchewan |\n",
       "| ⋮ | ⋮ |\n",
       "| 835 | Alberta      |\n",
       "| 836 | Saskatchewan |\n",
       "| 837 | Alberta      |\n",
       "| 838 | Saskatchewan |\n",
       "| 839 | Alberta      |\n",
       "| 840 | Saskatchewan |\n",
       "| 841 | Alberta      |\n",
       "| 842 | Saskatchewan |\n",
       "| 843 | Alberta      |\n",
       "| 844 | Saskatchewan |\n",
       "| 845 | Alberta      |\n",
       "| 846 | Saskatchewan |\n",
       "| 847 | Alberta      |\n",
       "| 848 | Saskatchewan |\n",
       "| 849 | Alberta      |\n",
       "| 850 | Saskatchewan |\n",
       "| 851 | Alberta      |\n",
       "| 852 | Saskatchewan |\n",
       "| 853 | Alberta      |\n",
       "| 854 | Saskatchewan |\n",
       "| 855 | Alberta      |\n",
       "| 856 | Saskatchewan |\n",
       "| 857 | Alberta      |\n",
       "| 858 | Saskatchewan |\n",
       "| 859 | Alberta      |\n",
       "| 860 | Saskatchewan |\n",
       "| 861 | Alberta      |\n",
       "| 862 | Saskatchewan |\n",
       "| 863 | Alberta      |\n",
       "| 864 | Saskatchewan |\n",
       "\n"
      ],
      "text/plain": [
       "    GEO         \n",
       "1   Alberta     \n",
       "2   Saskatchewan\n",
       "3   Alberta     \n",
       "4   Saskatchewan\n",
       "5   Alberta     \n",
       "6   Saskatchewan\n",
       "7   Alberta     \n",
       "8   Saskatchewan\n",
       "9   Alberta     \n",
       "10  Saskatchewan\n",
       "11  Alberta     \n",
       "12  Saskatchewan\n",
       "13  Alberta     \n",
       "14  Saskatchewan\n",
       "15  Alberta     \n",
       "16  Saskatchewan\n",
       "17  Alberta     \n",
       "18  Saskatchewan\n",
       "19  Alberta     \n",
       "20  Saskatchewan\n",
       "21  Alberta     \n",
       "22  Saskatchewan\n",
       "23  Alberta     \n",
       "24  Saskatchewan\n",
       "25  Alberta     \n",
       "26  Saskatchewan\n",
       "27  Alberta     \n",
       "28  Saskatchewan\n",
       "29  Alberta     \n",
       "30  Saskatchewan\n",
       "⋮   ⋮           \n",
       "835 Alberta     \n",
       "836 Saskatchewan\n",
       "837 Alberta     \n",
       "838 Saskatchewan\n",
       "839 Alberta     \n",
       "840 Saskatchewan\n",
       "841 Alberta     \n",
       "842 Saskatchewan\n",
       "843 Alberta     \n",
       "844 Saskatchewan\n",
       "845 Alberta     \n",
       "846 Saskatchewan\n",
       "847 Alberta     \n",
       "848 Saskatchewan\n",
       "849 Alberta     \n",
       "850 Saskatchewan\n",
       "851 Alberta     \n",
       "852 Saskatchewan\n",
       "853 Alberta     \n",
       "854 Saskatchewan\n",
       "855 Alberta     \n",
       "856 Saskatchewan\n",
       "857 Alberta     \n",
       "858 Saskatchewan\n",
       "859 Alberta     \n",
       "860 Saskatchewan\n",
       "861 Alberta     \n",
       "862 Saskatchewan\n",
       "863 Alberta     \n",
       "864 Saskatchewan"
      ]
     },
     "metadata": {},
     "output_type": "display_data"
    }
   ],
   "source": [
    "sqlQuery(conn, \"SELECT GEO FROM FARM_PRICES where CROP_TYPE='Barley'; \")"
   ]
  },
  {
   "cell_type": "markdown",
   "metadata": {},
   "source": [
    "## Problem 8\n",
    "#### Find the first and last dates for the farm prices data.\n"
   ]
  },
  {
   "cell_type": "markdown",
   "metadata": {},
   "source": [
    "### Solution 8\n"
   ]
  },
  {
   "cell_type": "code",
   "execution_count": 211,
   "metadata": {},
   "outputs": [
    {
     "data": {
      "text/html": [
       "<table>\n",
       "<caption>A data.frame: 1 × 2</caption>\n",
       "<thead>\n",
       "\t<tr><th></th><th scope=col>MAXIMUN_DATE</th><th scope=col>MINIMUM_DATE</th></tr>\n",
       "\t<tr><th></th><th scope=col>&lt;fct&gt;</th><th scope=col>&lt;fct&gt;</th></tr>\n",
       "</thead>\n",
       "<tbody>\n",
       "\t<tr><th scope=row>1</th><td>2020-12-01</td><td>1985-01-01</td></tr>\n",
       "</tbody>\n",
       "</table>\n"
      ],
      "text/latex": [
       "A data.frame: 1 × 2\n",
       "\\begin{tabular}{r|ll}\n",
       "  & MAXIMUN\\_DATE & MINIMUM\\_DATE\\\\\n",
       "  & <fct> & <fct>\\\\\n",
       "\\hline\n",
       "\t1 & 2020-12-01 & 1985-01-01\\\\\n",
       "\\end{tabular}\n"
      ],
      "text/markdown": [
       "\n",
       "A data.frame: 1 × 2\n",
       "\n",
       "| <!--/--> | MAXIMUN_DATE &lt;fct&gt; | MINIMUM_DATE &lt;fct&gt; |\n",
       "|---|---|---|\n",
       "| 1 | 2020-12-01 | 1985-01-01 |\n",
       "\n"
      ],
      "text/plain": [
       "  MAXIMUN_DATE MINIMUM_DATE\n",
       "1 2020-12-01   1985-01-01  "
      ]
     },
     "metadata": {},
     "output_type": "display_data"
    }
   ],
   "source": [
    "sqlQuery(conn, \"SELECT MAX(DATE) AS MAXIMUN_DATE , MIN(DATE) AS MINIMUM_DATE FROM FARM_PRICES\")"
   ]
  },
  {
   "cell_type": "markdown",
   "metadata": {},
   "source": [
    "## Problem 9\n",
    "#### Which crops have ever reached a farm price greater than or equal to &#0036;350 per metric tonne?\n"
   ]
  },
  {
   "cell_type": "markdown",
   "metadata": {},
   "source": [
    "### Solution 9\n"
   ]
  },
  {
   "cell_type": "code",
   "execution_count": 212,
   "metadata": {},
   "outputs": [
    {
     "data": {
      "text/html": [
       "<table>\n",
       "<caption>A data.frame: 469 × 2</caption>\n",
       "<thead>\n",
       "\t<tr><th></th><th scope=col>CROP_TYPE</th><th scope=col>PRICE_PRERMT</th></tr>\n",
       "\t<tr><th></th><th scope=col>&lt;fct&gt;</th><th scope=col>&lt;dbl&gt;</th></tr>\n",
       "</thead>\n",
       "<tbody>\n",
       "\t<tr><th scope=row>1</th><td>Canola</td><td>350.04</td></tr>\n",
       "\t<tr><th scope=row>2</th><td>Canola</td><td>363.84</td></tr>\n",
       "\t<tr><th scope=row>3</th><td>Canola</td><td>364.36</td></tr>\n",
       "\t<tr><th scope=row>4</th><td>Canola</td><td>354.58</td></tr>\n",
       "\t<tr><th scope=row>5</th><td>Canola</td><td>359.99</td></tr>\n",
       "\t<tr><th scope=row>6</th><td>Canola</td><td>350.47</td></tr>\n",
       "\t<tr><th scope=row>7</th><td>Canola</td><td>354.05</td></tr>\n",
       "\t<tr><th scope=row>8</th><td>Canola</td><td>354.82</td></tr>\n",
       "\t<tr><th scope=row>9</th><td>Canola</td><td>357.37</td></tr>\n",
       "\t<tr><th scope=row>10</th><td>Canola</td><td>368.18</td></tr>\n",
       "\t<tr><th scope=row>11</th><td>Canola</td><td>373.35</td></tr>\n",
       "\t<tr><th scope=row>12</th><td>Canola</td><td>381.30</td></tr>\n",
       "\t<tr><th scope=row>13</th><td>Canola</td><td>380.24</td></tr>\n",
       "\t<tr><th scope=row>14</th><td>Canola</td><td>384.32</td></tr>\n",
       "\t<tr><th scope=row>15</th><td>Canola</td><td>358.59</td></tr>\n",
       "\t<tr><th scope=row>16</th><td>Canola</td><td>357.67</td></tr>\n",
       "\t<tr><th scope=row>17</th><td>Canola</td><td>367.46</td></tr>\n",
       "\t<tr><th scope=row>18</th><td>Canola</td><td>367.09</td></tr>\n",
       "\t<tr><th scope=row>19</th><td>Canola</td><td>390.35</td></tr>\n",
       "\t<tr><th scope=row>20</th><td>Canola</td><td>390.01</td></tr>\n",
       "\t<tr><th scope=row>21</th><td>Canola</td><td>402.33</td></tr>\n",
       "\t<tr><th scope=row>22</th><td>Canola</td><td>402.15</td></tr>\n",
       "\t<tr><th scope=row>23</th><td>Canola</td><td>393.65</td></tr>\n",
       "\t<tr><th scope=row>24</th><td>Canola</td><td>385.99</td></tr>\n",
       "\t<tr><th scope=row>25</th><td>Canola</td><td>375.25</td></tr>\n",
       "\t<tr><th scope=row>26</th><td>Canola</td><td>364.83</td></tr>\n",
       "\t<tr><th scope=row>27</th><td>Canola</td><td>367.91</td></tr>\n",
       "\t<tr><th scope=row>28</th><td>Canola</td><td>362.61</td></tr>\n",
       "\t<tr><th scope=row>29</th><td>Canola</td><td>370.66</td></tr>\n",
       "\t<tr><th scope=row>30</th><td>Canola</td><td>366.89</td></tr>\n",
       "\t<tr><th scope=row>⋮</th><td>⋮</td><td>⋮</td></tr>\n",
       "\t<tr><th scope=row>440</th><td>Canola</td><td>433.48</td></tr>\n",
       "\t<tr><th scope=row>441</th><td>Canola</td><td>432.26</td></tr>\n",
       "\t<tr><th scope=row>442</th><td>Canola</td><td>434.03</td></tr>\n",
       "\t<tr><th scope=row>443</th><td>Canola</td><td>434.73</td></tr>\n",
       "\t<tr><th scope=row>444</th><td>Canola</td><td>435.17</td></tr>\n",
       "\t<tr><th scope=row>445</th><td>Canola</td><td>437.10</td></tr>\n",
       "\t<tr><th scope=row>446</th><td>Canola</td><td>442.73</td></tr>\n",
       "\t<tr><th scope=row>447</th><td>Canola</td><td>447.92</td></tr>\n",
       "\t<tr><th scope=row>448</th><td>Canola</td><td>447.35</td></tr>\n",
       "\t<tr><th scope=row>449</th><td>Canola</td><td>449.61</td></tr>\n",
       "\t<tr><th scope=row>450</th><td>Canola</td><td>442.80</td></tr>\n",
       "\t<tr><th scope=row>451</th><td>Canola</td><td>447.85</td></tr>\n",
       "\t<tr><th scope=row>452</th><td>Canola</td><td>443.58</td></tr>\n",
       "\t<tr><th scope=row>453</th><td>Canola</td><td>450.99</td></tr>\n",
       "\t<tr><th scope=row>454</th><td>Canola</td><td>448.74</td></tr>\n",
       "\t<tr><th scope=row>455</th><td>Canola</td><td>451.96</td></tr>\n",
       "\t<tr><th scope=row>456</th><td>Canola</td><td>446.16</td></tr>\n",
       "\t<tr><th scope=row>457</th><td>Canola</td><td>453.31</td></tr>\n",
       "\t<tr><th scope=row>458</th><td>Canola</td><td>459.16</td></tr>\n",
       "\t<tr><th scope=row>459</th><td>Canola</td><td>462.88</td></tr>\n",
       "\t<tr><th scope=row>460</th><td>Canola</td><td>461.50</td></tr>\n",
       "\t<tr><th scope=row>461</th><td>Canola</td><td>464.60</td></tr>\n",
       "\t<tr><th scope=row>462</th><td>Canola</td><td>468.28</td></tr>\n",
       "\t<tr><th scope=row>463</th><td>Canola</td><td>463.52</td></tr>\n",
       "\t<tr><th scope=row>464</th><td>Canola</td><td>472.93</td></tr>\n",
       "\t<tr><th scope=row>465</th><td>Canola</td><td>474.80</td></tr>\n",
       "\t<tr><th scope=row>466</th><td>Canola</td><td>490.48</td></tr>\n",
       "\t<tr><th scope=row>467</th><td>Canola</td><td>495.64</td></tr>\n",
       "\t<tr><th scope=row>468</th><td>Canola</td><td>509.04</td></tr>\n",
       "\t<tr><th scope=row>469</th><td>Canola</td><td>507.33</td></tr>\n",
       "</tbody>\n",
       "</table>\n"
      ],
      "text/latex": [
       "A data.frame: 469 × 2\n",
       "\\begin{tabular}{r|ll}\n",
       "  & CROP\\_TYPE & PRICE\\_PRERMT\\\\\n",
       "  & <fct> & <dbl>\\\\\n",
       "\\hline\n",
       "\t1 & Canola & 350.04\\\\\n",
       "\t2 & Canola & 363.84\\\\\n",
       "\t3 & Canola & 364.36\\\\\n",
       "\t4 & Canola & 354.58\\\\\n",
       "\t5 & Canola & 359.99\\\\\n",
       "\t6 & Canola & 350.47\\\\\n",
       "\t7 & Canola & 354.05\\\\\n",
       "\t8 & Canola & 354.82\\\\\n",
       "\t9 & Canola & 357.37\\\\\n",
       "\t10 & Canola & 368.18\\\\\n",
       "\t11 & Canola & 373.35\\\\\n",
       "\t12 & Canola & 381.30\\\\\n",
       "\t13 & Canola & 380.24\\\\\n",
       "\t14 & Canola & 384.32\\\\\n",
       "\t15 & Canola & 358.59\\\\\n",
       "\t16 & Canola & 357.67\\\\\n",
       "\t17 & Canola & 367.46\\\\\n",
       "\t18 & Canola & 367.09\\\\\n",
       "\t19 & Canola & 390.35\\\\\n",
       "\t20 & Canola & 390.01\\\\\n",
       "\t21 & Canola & 402.33\\\\\n",
       "\t22 & Canola & 402.15\\\\\n",
       "\t23 & Canola & 393.65\\\\\n",
       "\t24 & Canola & 385.99\\\\\n",
       "\t25 & Canola & 375.25\\\\\n",
       "\t26 & Canola & 364.83\\\\\n",
       "\t27 & Canola & 367.91\\\\\n",
       "\t28 & Canola & 362.61\\\\\n",
       "\t29 & Canola & 370.66\\\\\n",
       "\t30 & Canola & 366.89\\\\\n",
       "\t⋮ & ⋮ & ⋮\\\\\n",
       "\t440 & Canola & 433.48\\\\\n",
       "\t441 & Canola & 432.26\\\\\n",
       "\t442 & Canola & 434.03\\\\\n",
       "\t443 & Canola & 434.73\\\\\n",
       "\t444 & Canola & 435.17\\\\\n",
       "\t445 & Canola & 437.10\\\\\n",
       "\t446 & Canola & 442.73\\\\\n",
       "\t447 & Canola & 447.92\\\\\n",
       "\t448 & Canola & 447.35\\\\\n",
       "\t449 & Canola & 449.61\\\\\n",
       "\t450 & Canola & 442.80\\\\\n",
       "\t451 & Canola & 447.85\\\\\n",
       "\t452 & Canola & 443.58\\\\\n",
       "\t453 & Canola & 450.99\\\\\n",
       "\t454 & Canola & 448.74\\\\\n",
       "\t455 & Canola & 451.96\\\\\n",
       "\t456 & Canola & 446.16\\\\\n",
       "\t457 & Canola & 453.31\\\\\n",
       "\t458 & Canola & 459.16\\\\\n",
       "\t459 & Canola & 462.88\\\\\n",
       "\t460 & Canola & 461.50\\\\\n",
       "\t461 & Canola & 464.60\\\\\n",
       "\t462 & Canola & 468.28\\\\\n",
       "\t463 & Canola & 463.52\\\\\n",
       "\t464 & Canola & 472.93\\\\\n",
       "\t465 & Canola & 474.80\\\\\n",
       "\t466 & Canola & 490.48\\\\\n",
       "\t467 & Canola & 495.64\\\\\n",
       "\t468 & Canola & 509.04\\\\\n",
       "\t469 & Canola & 507.33\\\\\n",
       "\\end{tabular}\n"
      ],
      "text/markdown": [
       "\n",
       "A data.frame: 469 × 2\n",
       "\n",
       "| <!--/--> | CROP_TYPE &lt;fct&gt; | PRICE_PRERMT &lt;dbl&gt; |\n",
       "|---|---|---|\n",
       "| 1 | Canola | 350.04 |\n",
       "| 2 | Canola | 363.84 |\n",
       "| 3 | Canola | 364.36 |\n",
       "| 4 | Canola | 354.58 |\n",
       "| 5 | Canola | 359.99 |\n",
       "| 6 | Canola | 350.47 |\n",
       "| 7 | Canola | 354.05 |\n",
       "| 8 | Canola | 354.82 |\n",
       "| 9 | Canola | 357.37 |\n",
       "| 10 | Canola | 368.18 |\n",
       "| 11 | Canola | 373.35 |\n",
       "| 12 | Canola | 381.30 |\n",
       "| 13 | Canola | 380.24 |\n",
       "| 14 | Canola | 384.32 |\n",
       "| 15 | Canola | 358.59 |\n",
       "| 16 | Canola | 357.67 |\n",
       "| 17 | Canola | 367.46 |\n",
       "| 18 | Canola | 367.09 |\n",
       "| 19 | Canola | 390.35 |\n",
       "| 20 | Canola | 390.01 |\n",
       "| 21 | Canola | 402.33 |\n",
       "| 22 | Canola | 402.15 |\n",
       "| 23 | Canola | 393.65 |\n",
       "| 24 | Canola | 385.99 |\n",
       "| 25 | Canola | 375.25 |\n",
       "| 26 | Canola | 364.83 |\n",
       "| 27 | Canola | 367.91 |\n",
       "| 28 | Canola | 362.61 |\n",
       "| 29 | Canola | 370.66 |\n",
       "| 30 | Canola | 366.89 |\n",
       "| ⋮ | ⋮ | ⋮ |\n",
       "| 440 | Canola | 433.48 |\n",
       "| 441 | Canola | 432.26 |\n",
       "| 442 | Canola | 434.03 |\n",
       "| 443 | Canola | 434.73 |\n",
       "| 444 | Canola | 435.17 |\n",
       "| 445 | Canola | 437.10 |\n",
       "| 446 | Canola | 442.73 |\n",
       "| 447 | Canola | 447.92 |\n",
       "| 448 | Canola | 447.35 |\n",
       "| 449 | Canola | 449.61 |\n",
       "| 450 | Canola | 442.80 |\n",
       "| 451 | Canola | 447.85 |\n",
       "| 452 | Canola | 443.58 |\n",
       "| 453 | Canola | 450.99 |\n",
       "| 454 | Canola | 448.74 |\n",
       "| 455 | Canola | 451.96 |\n",
       "| 456 | Canola | 446.16 |\n",
       "| 457 | Canola | 453.31 |\n",
       "| 458 | Canola | 459.16 |\n",
       "| 459 | Canola | 462.88 |\n",
       "| 460 | Canola | 461.50 |\n",
       "| 461 | Canola | 464.60 |\n",
       "| 462 | Canola | 468.28 |\n",
       "| 463 | Canola | 463.52 |\n",
       "| 464 | Canola | 472.93 |\n",
       "| 465 | Canola | 474.80 |\n",
       "| 466 | Canola | 490.48 |\n",
       "| 467 | Canola | 495.64 |\n",
       "| 468 | Canola | 509.04 |\n",
       "| 469 | Canola | 507.33 |\n",
       "\n"
      ],
      "text/plain": [
       "    CROP_TYPE PRICE_PRERMT\n",
       "1   Canola    350.04      \n",
       "2   Canola    363.84      \n",
       "3   Canola    364.36      \n",
       "4   Canola    354.58      \n",
       "5   Canola    359.99      \n",
       "6   Canola    350.47      \n",
       "7   Canola    354.05      \n",
       "8   Canola    354.82      \n",
       "9   Canola    357.37      \n",
       "10  Canola    368.18      \n",
       "11  Canola    373.35      \n",
       "12  Canola    381.30      \n",
       "13  Canola    380.24      \n",
       "14  Canola    384.32      \n",
       "15  Canola    358.59      \n",
       "16  Canola    357.67      \n",
       "17  Canola    367.46      \n",
       "18  Canola    367.09      \n",
       "19  Canola    390.35      \n",
       "20  Canola    390.01      \n",
       "21  Canola    402.33      \n",
       "22  Canola    402.15      \n",
       "23  Canola    393.65      \n",
       "24  Canola    385.99      \n",
       "25  Canola    375.25      \n",
       "26  Canola    364.83      \n",
       "27  Canola    367.91      \n",
       "28  Canola    362.61      \n",
       "29  Canola    370.66      \n",
       "30  Canola    366.89      \n",
       "⋮   ⋮         ⋮           \n",
       "440 Canola    433.48      \n",
       "441 Canola    432.26      \n",
       "442 Canola    434.03      \n",
       "443 Canola    434.73      \n",
       "444 Canola    435.17      \n",
       "445 Canola    437.10      \n",
       "446 Canola    442.73      \n",
       "447 Canola    447.92      \n",
       "448 Canola    447.35      \n",
       "449 Canola    449.61      \n",
       "450 Canola    442.80      \n",
       "451 Canola    447.85      \n",
       "452 Canola    443.58      \n",
       "453 Canola    450.99      \n",
       "454 Canola    448.74      \n",
       "455 Canola    451.96      \n",
       "456 Canola    446.16      \n",
       "457 Canola    453.31      \n",
       "458 Canola    459.16      \n",
       "459 Canola    462.88      \n",
       "460 Canola    461.50      \n",
       "461 Canola    464.60      \n",
       "462 Canola    468.28      \n",
       "463 Canola    463.52      \n",
       "464 Canola    472.93      \n",
       "465 Canola    474.80      \n",
       "466 Canola    490.48      \n",
       "467 Canola    495.64      \n",
       "468 Canola    509.04      \n",
       "469 Canola    507.33      "
      ]
     },
     "metadata": {},
     "output_type": "display_data"
    }
   ],
   "source": [
    "sqlQuery(conn, \"SELECT CROP_TYPE,PRICE_PRERMT FROM FARM_PRICES where PRICE_PRERMT >= '350';\")"
   ]
  },
  {
   "cell_type": "markdown",
   "metadata": {},
   "source": [
    "## Problem 10\n",
    "#### Rank the crop types harvested in Saskatchewan in the year 2000 by their average yield. Which crop performed best? \n"
   ]
  },
  {
   "cell_type": "markdown",
   "metadata": {},
   "source": [
    "### Solution 10\n"
   ]
  },
  {
   "cell_type": "code",
   "execution_count": 60,
   "metadata": {},
   "outputs": [
    {
     "data": {
      "text/html": [
       "<table>\n",
       "<caption>A data.frame: 4 × 4</caption>\n",
       "<thead>\n",
       "\t<tr><th></th><th scope=col>CROP_TYPE</th><th scope=col>GEO</th><th scope=col>YEAR</th><th scope=col>RANK</th></tr>\n",
       "\t<tr><th></th><th scope=col>&lt;fct&gt;</th><th scope=col>&lt;fct&gt;</th><th scope=col>&lt;fct&gt;</th><th scope=col>&lt;int&gt;</th></tr>\n",
       "</thead>\n",
       "<tbody>\n",
       "\t<tr><th scope=row>1</th><td>Canola</td><td>Saskatchewan</td><td>2000-12-31</td><td>1</td></tr>\n",
       "\t<tr><th scope=row>2</th><td>Rye   </td><td>Saskatchewan</td><td>2000-12-31</td><td>2</td></tr>\n",
       "\t<tr><th scope=row>3</th><td>Wheat </td><td>Saskatchewan</td><td>2000-12-31</td><td>3</td></tr>\n",
       "\t<tr><th scope=row>4</th><td>Barley</td><td>Saskatchewan</td><td>2000-12-31</td><td>4</td></tr>\n",
       "</tbody>\n",
       "</table>\n"
      ],
      "text/latex": [
       "A data.frame: 4 × 4\n",
       "\\begin{tabular}{r|llll}\n",
       "  & CROP\\_TYPE & GEO & YEAR & RANK\\\\\n",
       "  & <fct> & <fct> & <fct> & <int>\\\\\n",
       "\\hline\n",
       "\t1 & Canola & Saskatchewan & 2000-12-31 & 1\\\\\n",
       "\t2 & Rye    & Saskatchewan & 2000-12-31 & 2\\\\\n",
       "\t3 & Wheat  & Saskatchewan & 2000-12-31 & 3\\\\\n",
       "\t4 & Barley & Saskatchewan & 2000-12-31 & 4\\\\\n",
       "\\end{tabular}\n"
      ],
      "text/markdown": [
       "\n",
       "A data.frame: 4 × 4\n",
       "\n",
       "| <!--/--> | CROP_TYPE &lt;fct&gt; | GEO &lt;fct&gt; | YEAR &lt;fct&gt; | RANK &lt;int&gt; |\n",
       "|---|---|---|---|---|\n",
       "| 1 | Canola | Saskatchewan | 2000-12-31 | 1 |\n",
       "| 2 | Rye    | Saskatchewan | 2000-12-31 | 2 |\n",
       "| 3 | Wheat  | Saskatchewan | 2000-12-31 | 3 |\n",
       "| 4 | Barley | Saskatchewan | 2000-12-31 | 4 |\n",
       "\n"
      ],
      "text/plain": [
       "  CROP_TYPE GEO          YEAR       RANK\n",
       "1 Canola    Saskatchewan 2000-12-31 1   \n",
       "2 Rye       Saskatchewan 2000-12-31 2   \n",
       "3 Wheat     Saskatchewan 2000-12-31 3   \n",
       "4 Barley    Saskatchewan 2000-12-31 4   "
      ]
     },
     "metadata": {},
     "output_type": "display_data"
    }
   ],
   "source": [
    "sqlQuery(conn,\"SELECT CROP_TYPE,GEO,YEAR, RANK() OVER(ORDER BY AVG_YIELD) RANK FROM CROP_DATA where GEO = 'Saskatchewan' and YEAR LIKE '2000%' ;\")"
   ]
  },
  {
   "cell_type": "markdown",
   "metadata": {},
   "source": [
    "## Problem 11\n",
    "#### Rank the crops and geographies by their average yield (KG per hectare) since the year 2000. Which crop and province had the highest average yield since the year 2000? \n"
   ]
  },
  {
   "cell_type": "markdown",
   "metadata": {},
   "source": [
    "### Solution 11\n"
   ]
  },
  {
   "cell_type": "code",
   "execution_count": 66,
   "metadata": {},
   "outputs": [
    {
     "data": {
      "text/html": [
       "<table>\n",
       "<caption>A data.frame: 12 × 5</caption>\n",
       "<thead>\n",
       "\t<tr><th></th><th scope=col>CROP_TYPE</th><th scope=col>GEO</th><th scope=col>AVG_YIELD</th><th scope=col>YEAR</th><th scope=col>RANK</th></tr>\n",
       "\t<tr><th></th><th scope=col>&lt;fct&gt;</th><th scope=col>&lt;fct&gt;</th><th scope=col>&lt;int&gt;</th><th scope=col>&lt;fct&gt;</th><th scope=col>&lt;int&gt;</th></tr>\n",
       "</thead>\n",
       "<tbody>\n",
       "\t<tr><th scope=row>1</th><td>Barley</td><td>Alberta     </td><td>3000</td><td>2000-12-31</td><td> 1</td></tr>\n",
       "\t<tr><th scope=row>2</th><td>Barley</td><td>Canada      </td><td>3000</td><td>2000-12-31</td><td> 1</td></tr>\n",
       "\t<tr><th scope=row>3</th><td>Barley</td><td>Saskatchewan</td><td>2800</td><td>2000-12-31</td><td> 3</td></tr>\n",
       "\t<tr><th scope=row>4</th><td>Wheat </td><td>Alberta     </td><td>2500</td><td>2000-12-31</td><td> 4</td></tr>\n",
       "\t<tr><th scope=row>5</th><td>Wheat </td><td>Canada      </td><td>2400</td><td>2000-12-31</td><td> 5</td></tr>\n",
       "\t<tr><th scope=row>6</th><td>Rye   </td><td>Canada      </td><td>2300</td><td>2000-12-31</td><td> 6</td></tr>\n",
       "\t<tr><th scope=row>7</th><td>Wheat </td><td>Saskatchewan</td><td>2200</td><td>2000-12-31</td><td> 7</td></tr>\n",
       "\t<tr><th scope=row>8</th><td>Rye   </td><td>Alberta     </td><td>2100</td><td>2000-12-31</td><td> 8</td></tr>\n",
       "\t<tr><th scope=row>9</th><td>Rye   </td><td>Saskatchewan</td><td>2100</td><td>2000-12-31</td><td> 8</td></tr>\n",
       "\t<tr><th scope=row>10</th><td>Canola</td><td>Alberta     </td><td>1500</td><td>2000-12-31</td><td>10</td></tr>\n",
       "\t<tr><th scope=row>11</th><td>Canola</td><td>Canada      </td><td>1500</td><td>2000-12-31</td><td>10</td></tr>\n",
       "\t<tr><th scope=row>12</th><td>Canola</td><td>Saskatchewan</td><td>1400</td><td>2000-12-31</td><td>12</td></tr>\n",
       "</tbody>\n",
       "</table>\n"
      ],
      "text/latex": [
       "A data.frame: 12 × 5\n",
       "\\begin{tabular}{r|lllll}\n",
       "  & CROP\\_TYPE & GEO & AVG\\_YIELD & YEAR & RANK\\\\\n",
       "  & <fct> & <fct> & <int> & <fct> & <int>\\\\\n",
       "\\hline\n",
       "\t1 & Barley & Alberta      & 3000 & 2000-12-31 &  1\\\\\n",
       "\t2 & Barley & Canada       & 3000 & 2000-12-31 &  1\\\\\n",
       "\t3 & Barley & Saskatchewan & 2800 & 2000-12-31 &  3\\\\\n",
       "\t4 & Wheat  & Alberta      & 2500 & 2000-12-31 &  4\\\\\n",
       "\t5 & Wheat  & Canada       & 2400 & 2000-12-31 &  5\\\\\n",
       "\t6 & Rye    & Canada       & 2300 & 2000-12-31 &  6\\\\\n",
       "\t7 & Wheat  & Saskatchewan & 2200 & 2000-12-31 &  7\\\\\n",
       "\t8 & Rye    & Alberta      & 2100 & 2000-12-31 &  8\\\\\n",
       "\t9 & Rye    & Saskatchewan & 2100 & 2000-12-31 &  8\\\\\n",
       "\t10 & Canola & Alberta      & 1500 & 2000-12-31 & 10\\\\\n",
       "\t11 & Canola & Canada       & 1500 & 2000-12-31 & 10\\\\\n",
       "\t12 & Canola & Saskatchewan & 1400 & 2000-12-31 & 12\\\\\n",
       "\\end{tabular}\n"
      ],
      "text/markdown": [
       "\n",
       "A data.frame: 12 × 5\n",
       "\n",
       "| <!--/--> | CROP_TYPE &lt;fct&gt; | GEO &lt;fct&gt; | AVG_YIELD &lt;int&gt; | YEAR &lt;fct&gt; | RANK &lt;int&gt; |\n",
       "|---|---|---|---|---|---|\n",
       "| 1 | Barley | Alberta      | 3000 | 2000-12-31 |  1 |\n",
       "| 2 | Barley | Canada       | 3000 | 2000-12-31 |  1 |\n",
       "| 3 | Barley | Saskatchewan | 2800 | 2000-12-31 |  3 |\n",
       "| 4 | Wheat  | Alberta      | 2500 | 2000-12-31 |  4 |\n",
       "| 5 | Wheat  | Canada       | 2400 | 2000-12-31 |  5 |\n",
       "| 6 | Rye    | Canada       | 2300 | 2000-12-31 |  6 |\n",
       "| 7 | Wheat  | Saskatchewan | 2200 | 2000-12-31 |  7 |\n",
       "| 8 | Rye    | Alberta      | 2100 | 2000-12-31 |  8 |\n",
       "| 9 | Rye    | Saskatchewan | 2100 | 2000-12-31 |  8 |\n",
       "| 10 | Canola | Alberta      | 1500 | 2000-12-31 | 10 |\n",
       "| 11 | Canola | Canada       | 1500 | 2000-12-31 | 10 |\n",
       "| 12 | Canola | Saskatchewan | 1400 | 2000-12-31 | 12 |\n",
       "\n"
      ],
      "text/plain": [
       "   CROP_TYPE GEO          AVG_YIELD YEAR       RANK\n",
       "1  Barley    Alberta      3000      2000-12-31  1  \n",
       "2  Barley    Canada       3000      2000-12-31  1  \n",
       "3  Barley    Saskatchewan 2800      2000-12-31  3  \n",
       "4  Wheat     Alberta      2500      2000-12-31  4  \n",
       "5  Wheat     Canada       2400      2000-12-31  5  \n",
       "6  Rye       Canada       2300      2000-12-31  6  \n",
       "7  Wheat     Saskatchewan 2200      2000-12-31  7  \n",
       "8  Rye       Alberta      2100      2000-12-31  8  \n",
       "9  Rye       Saskatchewan 2100      2000-12-31  8  \n",
       "10 Canola    Alberta      1500      2000-12-31 10  \n",
       "11 Canola    Canada       1500      2000-12-31 10  \n",
       "12 Canola    Saskatchewan 1400      2000-12-31 12  "
      ]
     },
     "metadata": {},
     "output_type": "display_data"
    }
   ],
   "source": [
    "sqlQuery(conn, \"SELECT CROP_TYPE,GEO ,AVG_YIELD,YEAR, RANK() OVER(ORDER BY AVG_YIELD DESC)RANK FROM CROP_DATA where YEAR LIKE '2000%' ;\")"
   ]
  },
  {
   "cell_type": "markdown",
   "metadata": {},
   "source": [
    "## Problem 12\n",
    "#### Use a subquery to determine how much wheat was harvested in Canada in the most recent year of the data.\n"
   ]
  },
  {
   "cell_type": "markdown",
   "metadata": {},
   "source": [
    "### Solution 12\n"
   ]
  },
  {
   "cell_type": "code",
   "execution_count": 73,
   "metadata": {},
   "outputs": [
    {
     "data": {
      "text/html": [
       "<table>\n",
       "<caption>A data.frame: 1 × 3</caption>\n",
       "<thead>\n",
       "\t<tr><th></th><th scope=col>AVG_YIELD</th><th scope=col>YEAR</th><th scope=col>CROP_TYPE</th></tr>\n",
       "\t<tr><th></th><th scope=col>&lt;int&gt;</th><th scope=col>&lt;fct&gt;</th><th scope=col>&lt;fct&gt;</th></tr>\n",
       "</thead>\n",
       "<tbody>\n",
       "\t<tr><th scope=row>1</th><td>3512</td><td>2020-12-31</td><td>Wheat</td></tr>\n",
       "</tbody>\n",
       "</table>\n"
      ],
      "text/latex": [
       "A data.frame: 1 × 3\n",
       "\\begin{tabular}{r|lll}\n",
       "  & AVG\\_YIELD & YEAR & CROP\\_TYPE\\\\\n",
       "  & <int> & <fct> & <fct>\\\\\n",
       "\\hline\n",
       "\t1 & 3512 & 2020-12-31 & Wheat\\\\\n",
       "\\end{tabular}\n"
      ],
      "text/markdown": [
       "\n",
       "A data.frame: 1 × 3\n",
       "\n",
       "| <!--/--> | AVG_YIELD &lt;int&gt; | YEAR &lt;fct&gt; | CROP_TYPE &lt;fct&gt; |\n",
       "|---|---|---|---|\n",
       "| 1 | 3512 | 2020-12-31 | Wheat |\n",
       "\n"
      ],
      "text/plain": [
       "  AVG_YIELD YEAR       CROP_TYPE\n",
       "1 3512      2020-12-31 Wheat    "
      ]
     },
     "metadata": {},
     "output_type": "display_data"
    }
   ],
   "source": [
    "sqlQuery(conn, \"SELECT AVG_YIELD,year,CROP_TYPE FROM CROP_DATA where year=(select MAX(YEAR)from CROP_DATA)and GEO ='Canada' and CROP_TYPE = 'Wheat';\")"
   ]
  },
  {
   "cell_type": "markdown",
   "metadata": {},
   "source": [
    "## Problem 13\n",
    "#### Use an implicit inner join to calculate the monthly price per metric tonne of Canola grown in Saskatchewan in both Canadian and US dollars. Display the most recent 6 months of the data.\n"
   ]
  },
  {
   "cell_type": "markdown",
   "metadata": {},
   "source": [
    "### Solution 13\n"
   ]
  },
  {
   "cell_type": "code",
   "execution_count": 59,
   "metadata": {},
   "outputs": [
    {
     "data": {
      "text/html": [
       "<table>\n",
       "<caption>A data.frame: 6 × 2</caption>\n",
       "<thead>\n",
       "\t<tr><th></th><th scope=col>CAD</th><th scope=col>USD</th></tr>\n",
       "\t<tr><th></th><th scope=col>&lt;dbl&gt;</th><th scope=col>&lt;dbl&gt;</th></tr>\n",
       "</thead>\n",
       "<tbody>\n",
       "\t<tr><th scope=row>1</th><td>339.82</td><td>254.8650</td></tr>\n",
       "\t<tr><th scope=row>2</th><td>341.26</td><td>255.9450</td></tr>\n",
       "\t<tr><th scope=row>3</th><td>349.77</td><td>262.3275</td></tr>\n",
       "\t<tr><th scope=row>4</th><td>364.36</td><td>273.2700</td></tr>\n",
       "\t<tr><th scope=row>5</th><td>359.99</td><td>269.9925</td></tr>\n",
       "\t<tr><th scope=row>6</th><td>350.47</td><td>262.8525</td></tr>\n",
       "</tbody>\n",
       "</table>\n"
      ],
      "text/latex": [
       "A data.frame: 6 × 2\n",
       "\\begin{tabular}{r|ll}\n",
       "  & CAD & USD\\\\\n",
       "  & <dbl> & <dbl>\\\\\n",
       "\\hline\n",
       "\t1 & 339.82 & 254.8650\\\\\n",
       "\t2 & 341.26 & 255.9450\\\\\n",
       "\t3 & 349.77 & 262.3275\\\\\n",
       "\t4 & 364.36 & 273.2700\\\\\n",
       "\t5 & 359.99 & 269.9925\\\\\n",
       "\t6 & 350.47 & 262.8525\\\\\n",
       "\\end{tabular}\n"
      ],
      "text/markdown": [
       "\n",
       "A data.frame: 6 × 2\n",
       "\n",
       "| <!--/--> | CAD &lt;dbl&gt; | USD &lt;dbl&gt; |\n",
       "|---|---|---|\n",
       "| 1 | 339.82 | 254.8650 |\n",
       "| 2 | 341.26 | 255.9450 |\n",
       "| 3 | 349.77 | 262.3275 |\n",
       "| 4 | 364.36 | 273.2700 |\n",
       "| 5 | 359.99 | 269.9925 |\n",
       "| 6 | 350.47 | 262.8525 |\n",
       "\n"
      ],
      "text/plain": [
       "  CAD    USD     \n",
       "1 339.82 254.8650\n",
       "2 341.26 255.9450\n",
       "3 349.77 262.3275\n",
       "4 364.36 273.2700\n",
       "5 359.99 269.9925\n",
       "6 350.47 262.8525"
      ]
     },
     "metadata": {},
     "output_type": "display_data"
    }
   ],
   "source": [
    "sqlQuery (conn, \"select PRICE_PRERMT as CAD,PRICE_PRERMT*0.75 as USD from FARM_PRICES F inner join CROP_DATA C on F.CD_ID=C.CD_ID where F.CROP_TYPE='Canola'and F.GEO='Saskatchewan 'LIMIT 6;\")"
   ]
  },
  {
   "cell_type": "markdown",
   "metadata": {},
   "source": [
    "## Author(s)\n",
    "\n",
    "<h4> Jeff Grossman </h4>\n",
    "\n",
    "## Contributor(s)\n",
    "\n",
    "<h4> Rav Ahuja </h4>\n",
    "\n",
    "## Change log\n",
    "\n",
    "| Date       | Version | Changed by    | Change Description                                                                                          |\n",
    "| ---------- | ------- | ------------- | ----------------------------------------------------------------------------------------------------------- |\n",
    "| 2021-04-01 | 0.7     | Jeff Grossman | Split Problem 1 solution cell into multiple cells, fixed minor bugs |\n",
    "| 2021-03-12 | 0.6     | Jeff Grossman | Cleaned up content for production |\n",
    "| 2021-03-11 | 0.5     | Jeff Grossman | Moved more advanced problems to optional honours module |\n",
    "| 2021-03-10 | 0.4     | Jeff Grossman | Added introductory and intermediate level problems and removed some advanced problems |\n",
    "| 2021-03-04 | 0.3     | Jeff Grossman | Moved some problems to a new practice lab as prep for this assignment\n",
    "| 2021-03-04 | 0.2     | Jeff Grossman | Sorted problems roughly by level of difficulty and relegated more advanced ones to ungraded bonus problems  |\n",
    "| 2021-02-20 | 0.1     | Jeff Grossman | Started content creation                                                                                    |\n",
    "\n",
    "\n",
    "## <h3 align=\"center\"> © IBM Corporation 2021. All rights reserved. <h3/>\n"
   ]
  },
  {
   "cell_type": "code",
   "execution_count": null,
   "metadata": {},
   "outputs": [],
   "source": []
  }
 ],
 "metadata": {
  "kernelspec": {
   "display_name": "R",
   "language": "R",
   "name": "conda-env-r-r"
  },
  "language_info": {
   "codemirror_mode": "r",
   "file_extension": ".r",
   "mimetype": "text/x-r-source",
   "name": "R",
   "pygments_lexer": "r",
   "version": "3.5.1"
  }
 },
 "nbformat": 4,
 "nbformat_minor": 4
}
